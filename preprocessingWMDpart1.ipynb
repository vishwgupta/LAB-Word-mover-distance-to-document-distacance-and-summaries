{
 "cells": [
  {
   "cell_type": "code",
   "execution_count": 7,
   "metadata": {
    "collapsed": false
   },
   "outputs": [],
   "source": [
    "#!/usr/bin/python\n",
    "# coding: iso-8859-1\n",
    "# Used to remove stop words.\n",
    "import sys\n",
    "reload(sys)\n",
    "sys.setdefaultencoding('iso-8859-1')\n",
    "print sys.getdefaultencoding() \n",
    "import os \n",
    "import re\n",
    "from nltk.corpus import stopwords\n",
    "from nltk.tokenize import word_tokenize\n",
    "from nltk.tokenize import sent_tokenize\n",
    "import nltk.data\n",
    "import string\n",
    "path = os.path.join(os.path.expanduser('.'),'data','dataWMD20NEWS','testdata')"
   ]
  },
  {
   "cell_type": "code",
   "execution_count": 8,
   "metadata": {
    "collapsed": false
   },
   "outputs": [],
   "source": [
    "def list_files(dir):\n",
    "    r = []\n",
    "    for root, dirs, files in os.walk(dir):\n",
    "        for name in files:\n",
    "            r.append(os.path.join(root, name))\n",
    "    numberOfFiles = len(r)\n",
    "    return r\n",
    "\n",
    "fnames = list_files(path)\n",
    "for fname in fnames:\n",
    "    with open(fname, 'r') as fin:\n",
    "        badWords = ['From:','Subject:','Lines:','Reply','Organization:','Article-I.D.:','@','Summary:','Keywords:','Expires:',':']\n",
    "        new_file_name = fname+'NEW';\n",
    "        with open(fname) as oldFile, open(new_file_name,'w') as newFile:\n",
    "            for line in oldFile:\n",
    "            \t#line = line.lower()\n",
    "                Str2='\\n'\n",
    "\n",
    "                if not any(badWord in line for badWord in badWords):\n",
    "\n",
    "                    line = line.replace('\\t',' ')\n",
    "                    line = line.replace('\\n',' ')\n",
    "                    line = line.translate(None, \"@#$%^&*+-()|\\<[>],\\\"_/:'~`\")\n",
    "                    line = re.sub(' +', ' ', line)\n",
    "                    newFile.write(line)\n",
    "        newFile.close()\n",
    "\n",
    "\n",
    "        with open(new_file_name,'r') as newFile:\n",
    "            line = newFile.read()    \n",
    "\n",
    "            sent_detector = nltk.data.load('tokenizers/punkt/english.pickle')\n",
    "            Str2 = ('\\n-----\\n'.join(sent_detector.tokenize(line.strip())))\n",
    "            Str2 = re.sub(' +', ' ', Str2)\n",
    "                \n",
    "\n",
    "            stop_words = set(stopwords.words('english'))\n",
    "            tokens = nltk.word_tokenize(Str2)\n",
    "            Str1 = \" \".join(filter(lambda word: word not in stop_words, Str2.split()))\n",
    "            Str1 = re.sub(r'[^\\w\\s]','',Str1)   \n",
    "            Str1 = Str1.replace('  ','\\n')\n",
    "            #Str1 = Str1.lower()\n",
    "            with open(new_file_name,'w') as newFile:\n",
    "                newFile.write(Str1)\n",
    "                    \n",
    "        \n"
   ]
  },
  {
   "cell_type": "code",
   "execution_count": null,
   "metadata": {
    "collapsed": true
   },
   "outputs": [],
   "source": []
  }
 ],
 "metadata": {
  "kernelspec": {
   "display_name": "Python 2",
   "language": "python",
   "name": "python2"
  },
  "language_info": {
   "codemirror_mode": {
    "name": "ipython",
    "version": 2
   },
   "file_extension": ".py",
   "mimetype": "text/x-python",
   "name": "python",
   "nbconvert_exporter": "python",
   "pygments_lexer": "ipython2",
   "version": "2.7.12"
  }
 },
 "nbformat": 4,
 "nbformat_minor": 0
}
